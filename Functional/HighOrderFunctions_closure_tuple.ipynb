{
 "cells": [
  {
   "cell_type": "code",
   "execution_count": null,
   "metadata": {
    "ExecuteTime": {
     "end_time": "2020-12-16T14:51:17.485809Z",
     "start_time": "2020-12-16T14:51:17.478880Z"
    }
   },
   "outputs": [],
   "source": [
    "def my_func(a,b,c):\n",
    "    '''There are three input arguments\n",
    "    '''\n",
    "    print('a = {0} and b = {1} and finally c = {2}'.format(a,b,c))\n",
    "\n",
    "my_func(3,4,'hello')"
   ]
  },
  {
   "cell_type": "code",
   "execution_count": null,
   "metadata": {
    "ExecuteTime": {
     "end_time": "2020-12-16T15:15:20.079459Z",
     "start_time": "2020-12-16T15:15:20.073588Z"
    }
   },
   "outputs": [],
   "source": [
    "a = (1, 2, 4)\n",
    "\n",
    "type(a)"
   ]
  },
  {
   "cell_type": "code",
   "execution_count": null,
   "metadata": {
    "ExecuteTime": {
     "end_time": "2020-12-16T15:20:19.761508Z",
     "start_time": "2020-12-16T15:20:19.754225Z"
    }
   },
   "outputs": [],
   "source": [
    "a , b, c = [1, 3.14, 'hello']"
   ]
  },
  {
   "cell_type": "code",
   "execution_count": null,
   "metadata": {
    "ExecuteTime": {
     "end_time": "2020-12-16T15:20:35.483074Z",
     "start_time": "2020-12-16T15:20:35.472879Z"
    }
   },
   "outputs": [],
   "source": [
    "a"
   ]
  },
  {
   "cell_type": "code",
   "execution_count": null,
   "metadata": {
    "ExecuteTime": {
     "end_time": "2020-12-16T15:20:44.028731Z",
     "start_time": "2020-12-16T15:20:44.017316Z"
    }
   },
   "outputs": [],
   "source": [
    "b, c"
   ]
  },
  {
   "cell_type": "code",
   "execution_count": null,
   "metadata": {
    "ExecuteTime": {
     "end_time": "2020-12-16T15:54:12.748061Z",
     "start_time": "2020-12-16T15:54:12.745859Z"
    }
   },
   "outputs": [],
   "source": [
    "d = {'a':1, 'b':2, 'c':3}"
   ]
  },
  {
   "cell_type": "code",
   "execution_count": null,
   "metadata": {
    "ExecuteTime": {
     "end_time": "2020-12-16T15:55:07.557842Z",
     "start_time": "2020-12-16T15:55:07.551269Z"
    }
   },
   "outputs": [],
   "source": [
    "for e in d: \n",
    "    print(e)"
   ]
  },
  {
   "cell_type": "code",
   "execution_count": null,
   "metadata": {
    "ExecuteTime": {
     "end_time": "2020-12-16T15:55:38.857367Z",
     "start_time": "2020-12-16T15:55:38.852060Z"
    }
   },
   "outputs": [],
   "source": [
    "a , b, c = d "
   ]
  },
  {
   "cell_type": "code",
   "execution_count": null,
   "metadata": {},
   "outputs": [],
   "source": []
  },
  {
   "cell_type": "code",
   "execution_count": null,
   "metadata": {
    "ExecuteTime": {
     "end_time": "2020-12-16T16:13:03.147536Z",
     "start_time": "2020-12-16T16:13:03.145621Z"
    }
   },
   "outputs": [],
   "source": [
    "d = {'a':1, 'b':2, 'c':3, 'h':8}"
   ]
  },
  {
   "cell_type": "code",
   "execution_count": null,
   "metadata": {
    "ExecuteTime": {
     "end_time": "2020-12-16T16:13:03.181652Z",
     "start_time": "2020-12-16T16:13:03.148729Z"
    }
   },
   "outputs": [],
   "source": [
    "a"
   ]
  },
  {
   "cell_type": "code",
   "execution_count": null,
   "metadata": {
    "ExecuteTime": {
     "end_time": "2020-12-16T16:13:03.186298Z",
     "start_time": "2020-12-16T16:13:03.182942Z"
    }
   },
   "outputs": [],
   "source": [
    "for e in d.values():\n",
    "    print(e)"
   ]
  },
  {
   "cell_type": "code",
   "execution_count": null,
   "metadata": {
    "ExecuteTime": {
     "end_time": "2020-12-16T16:13:03.190143Z",
     "start_time": "2020-12-16T16:13:03.187176Z"
    }
   },
   "outputs": [],
   "source": [
    "for e in d.items():\n",
    "    a, b = e \n",
    "    print('key = {0}, value = {1}'.format(a,b))"
   ]
  },
  {
   "cell_type": "code",
   "execution_count": null,
   "metadata": {
    "ExecuteTime": {
     "end_time": "2020-12-16T18:08:06.540433Z",
     "start_time": "2020-12-16T18:08:06.538054Z"
    }
   },
   "outputs": [],
   "source": [
    "a, b, *c= 10, 20, 'a', 'b'\n"
   ]
  },
  {
   "cell_type": "code",
   "execution_count": null,
   "metadata": {
    "ExecuteTime": {
     "end_time": "2020-12-16T18:08:12.130310Z",
     "start_time": "2020-12-16T18:08:12.120834Z"
    }
   },
   "outputs": [],
   "source": [
    "a"
   ]
  },
  {
   "cell_type": "code",
   "execution_count": null,
   "metadata": {
    "ExecuteTime": {
     "end_time": "2020-12-16T18:08:22.374117Z",
     "start_time": "2020-12-16T18:08:22.370695Z"
    }
   },
   "outputs": [],
   "source": [
    "b"
   ]
  },
  {
   "cell_type": "code",
   "execution_count": null,
   "metadata": {
    "ExecuteTime": {
     "end_time": "2020-12-16T18:08:33.334581Z",
     "start_time": "2020-12-16T18:08:33.331281Z"
    }
   },
   "outputs": [],
   "source": [
    "c"
   ]
  },
  {
   "cell_type": "code",
   "execution_count": null,
   "metadata": {
    "ExecuteTime": {
     "end_time": "2020-12-16T18:17:03.118337Z",
     "start_time": "2020-12-16T18:17:03.115929Z"
    }
   },
   "outputs": [],
   "source": [
    "# a function with 2 or more parameters\n",
    "def my_function(a,b,*args):\n",
    "    \"\"\"function can have 2 or more parameters\n",
    "    *c is optional parameters and we can have it as many as we want.\"\"\"\n",
    "    print(a)\n",
    "    print(b)\n",
    "    print(args)\n"
   ]
  },
  {
   "cell_type": "code",
   "execution_count": null,
   "metadata": {
    "ExecuteTime": {
     "end_time": "2020-12-16T18:17:06.176606Z",
     "start_time": "2020-12-16T18:17:06.173838Z"
    }
   },
   "outputs": [],
   "source": [
    "my_function(10,4, 5, 3,8 ,9 ,8)"
   ]
  },
  {
   "cell_type": "code",
   "execution_count": null,
   "metadata": {},
   "outputs": [],
   "source": []
  },
  {
   "cell_type": "code",
   "execution_count": null,
   "metadata": {
    "ExecuteTime": {
     "end_time": "2020-12-16T18:17:08.157008Z",
     "start_time": "2020-12-16T18:17:08.154009Z"
    }
   },
   "outputs": [],
   "source": [
    "my_function(10,4)"
   ]
  },
  {
   "cell_type": "code",
   "execution_count": null,
   "metadata": {
    "ExecuteTime": {
     "end_time": "2020-12-18T14:51:30.794984Z",
     "start_time": "2020-12-18T14:51:30.786981Z"
    }
   },
   "outputs": [],
   "source": [
    "def avr(*args):\n",
    "    count = len(args)\n",
    "    total = sum(args)\n",
    "    if count == 0:\n",
    "        return 0 \n",
    "    else:\n",
    "       # return total/count \n",
    "       print(\"sum of\",args, \"is\", sum(args), \"and averag of them is\", total)"
   ]
  },
  {
   "cell_type": "code",
   "execution_count": null,
   "metadata": {
    "ExecuteTime": {
     "end_time": "2020-12-18T14:49:14.967366Z",
     "start_time": "2020-12-18T14:49:14.959885Z"
    }
   },
   "outputs": [],
   "source": [
    "l = [1, 3, 5.3, 6, 7.8]"
   ]
  },
  {
   "cell_type": "code",
   "execution_count": null,
   "metadata": {
    "ExecuteTime": {
     "end_time": "2020-12-18T14:51:39.192040Z",
     "start_time": "2020-12-18T14:51:39.181899Z"
    }
   },
   "outputs": [],
   "source": [
    "avr(*l)"
   ]
  },
  {
   "cell_type": "code",
   "execution_count": null,
   "metadata": {
    "ExecuteTime": {
     "end_time": "2020-12-17T15:37:02.968435Z",
     "start_time": "2020-12-17T15:37:02.963065Z"
    }
   },
   "outputs": [],
   "source": [
    "avr()"
   ]
  },
  {
   "cell_type": "code",
   "execution_count": null,
   "metadata": {},
   "outputs": [],
   "source": []
  },
  {
   "cell_type": "code",
   "execution_count": null,
   "metadata": {
    "ExecuteTime": {
     "end_time": "2020-12-18T14:49:53.862138Z",
     "start_time": "2020-12-18T14:49:53.854220Z"
    }
   },
   "outputs": [],
   "source": [
    "def avr(*args):\n",
    "    count = len(args)\n",
    "    total = sum(args)\n",
    "    return count and total/count\n",
    "    print(\"sum of\",args, \"is\", sum(args), \"and averag of them is\", total)"
   ]
  },
  {
   "cell_type": "code",
   "execution_count": null,
   "metadata": {
    "ExecuteTime": {
     "end_time": "2020-12-18T14:50:03.114033Z",
     "start_time": "2020-12-18T14:50:03.105431Z"
    }
   },
   "outputs": [],
   "source": [
    "avr(*l)"
   ]
  },
  {
   "cell_type": "code",
   "execution_count": null,
   "metadata": {
    "ExecuteTime": {
     "end_time": "2020-12-17T16:21:37.796598Z",
     "start_time": "2020-12-17T16:21:37.793666Z"
    }
   },
   "outputs": [],
   "source": [
    "# An alternative way to have atleast one argument is:\n",
    "\n",
    "def avr(a, *args):\n",
    "    count = 1 + len(args)\n",
    "    total = sum(args) + a \n",
    "    return total / count\n",
    "    print(\"sum of\",args, \"is\", sum(args), \"and averag of them is\", total)"
   ]
  },
  {
   "cell_type": "code",
   "execution_count": null,
   "metadata": {
    "ExecuteTime": {
     "end_time": "2020-12-17T16:22:41.309134Z",
     "start_time": "2020-12-17T16:22:41.294508Z"
    }
   },
   "outputs": [],
   "source": [
    "avr()"
   ]
  },
  {
   "cell_type": "code",
   "execution_count": null,
   "metadata": {
    "ExecuteTime": {
     "end_time": "2020-12-17T18:11:54.427052Z",
     "start_time": "2020-12-17T18:11:54.418739Z"
    }
   },
   "outputs": [],
   "source": [
    "def func1(*args, d):\n",
    "    print(args, d)\n",
    "\n",
    "\n",
    "func1(d = 1)"
   ]
  },
  {
   "cell_type": "code",
   "execution_count": null,
   "metadata": {
    "ExecuteTime": {
     "end_time": "2020-12-17T18:11:29.207539Z",
     "start_time": "2020-12-17T18:11:29.204992Z"
    }
   },
   "outputs": [],
   "source": [
    "def func2(*, d):\n",
    "    print(d)\n",
    "\n",
    "func2(d = 2)"
   ]
  },
  {
   "cell_type": "code",
   "execution_count": null,
   "metadata": {
    "ExecuteTime": {
     "end_time": "2020-12-17T18:22:40.486966Z",
     "start_time": "2020-12-17T18:22:40.483027Z"
    }
   },
   "outputs": [],
   "source": [
    "def func3(a, b=2, *args, d):\n",
    "    print('Input arguments are:',a,b,args,d)\n",
    "    \n",
    "\n",
    "func3(1, d =3)"
   ]
  },
  {
   "cell_type": "code",
   "execution_count": null,
   "metadata": {
    "ExecuteTime": {
     "end_time": "2020-12-17T18:30:03.111848Z",
     "start_time": "2020-12-17T18:30:03.108207Z"
    }
   },
   "outputs": [],
   "source": [
    "def func(a, b=88, *args, c = True, d):\n",
    "    print(a, b, args, c, d)\n",
    "    \n",
    "func(1, 3, 0, d=5)"
   ]
  },
  {
   "cell_type": "code",
   "execution_count": null,
   "metadata": {
    "ExecuteTime": {
     "end_time": "2020-12-17T20:07:09.620946Z",
     "start_time": "2020-12-17T20:07:09.618066Z"
    }
   },
   "outputs": [],
   "source": [
    "def func(*args, **kwargs):\n",
    "    print(args,'Tuple <----> dictionary', kwargs) \n",
    "\n",
    "func(1, 2, 3, a= 'Hello', b= 'Python you are awesome', c = 0)"
   ]
  },
  {
   "cell_type": "code",
   "execution_count": null,
   "metadata": {
    "ExecuteTime": {
     "end_time": "2020-12-18T09:55:19.108000Z",
     "start_time": "2020-12-18T09:55:19.101466Z"
    }
   },
   "outputs": [],
   "source": [
    "a = 2\n",
    "\n",
    "if a == 2:\n",
    "    print('hey you are right')\n",
    "else:\n",
    "    print('Sorry empty')"
   ]
  },
  {
   "cell_type": "code",
   "execution_count": null,
   "metadata": {
    "ExecuteTime": {
     "end_time": "2020-12-18T09:57:50.889581Z",
     "start_time": "2020-12-18T09:57:50.886883Z"
    }
   },
   "outputs": [],
   "source": [
    "def factorial(n):\n",
    "    if n < 1: return 1\n",
    "    else:\n",
    "        print('calculating {0}!'.format(n))\n",
    "        return n * factorial(n-1)"
   ]
  },
  {
   "cell_type": "code",
   "execution_count": null,
   "metadata": {
    "ExecuteTime": {
     "end_time": "2020-12-18T09:58:35.038094Z",
     "start_time": "2020-12-18T09:58:35.030233Z"
    }
   },
   "outputs": [],
   "source": [
    "factorial(3)"
   ]
  },
  {
   "cell_type": "markdown",
   "metadata": {},
   "source": [
    "# first class function"
   ]
  },
  {
   "cell_type": "code",
   "execution_count": null,
   "metadata": {
    "ExecuteTime": {
     "end_time": "2020-12-18T11:05:34.384935Z",
     "start_time": "2020-12-18T11:05:34.381824Z"
    }
   },
   "outputs": [],
   "source": [
    "def my_func(a,b):\n",
    "    #a = 10\n",
    "    \"\"\"this function take two values \n",
    "    Inputs\n",
    "    a: integer \n",
    "    b: integer\n",
    "    \n",
    "    Output: multiplication of them\"\"\"\n",
    "    return a*b"
   ]
  },
  {
   "cell_type": "code",
   "execution_count": null,
   "metadata": {
    "ExecuteTime": {
     "end_time": "2020-12-18T11:05:35.457681Z",
     "start_time": "2020-12-18T11:05:35.452165Z"
    }
   },
   "outputs": [],
   "source": [
    "help(my_func)"
   ]
  },
  {
   "cell_type": "code",
   "execution_count": null,
   "metadata": {
    "ExecuteTime": {
     "end_time": "2020-12-18T11:03:57.037726Z",
     "start_time": "2020-12-18T11:03:57.031875Z"
    }
   },
   "outputs": [],
   "source": [
    "my_func.__doc__"
   ]
  },
  {
   "cell_type": "markdown",
   "metadata": {},
   "source": [
    "now lets put annotation an documentaion both."
   ]
  },
  {
   "cell_type": "code",
   "execution_count": null,
   "metadata": {
    "ExecuteTime": {
     "end_time": "2020-12-18T16:47:16.144152Z",
     "start_time": "2020-12-18T16:47:16.139188Z"
    }
   },
   "outputs": [],
   "source": [
    "def my_func2(a: 'can be float or int',\n",
    "             b: 'should be integer' = 1, \n",
    "             *args: 'additional optional parameters',\n",
    "             k1: 'keyword-only arguments', \n",
    "             k2: 'another keyword arguments' = 2, \n",
    "             **kwargs: 'some extra keyword arguments') -> 'bla bla bla bla bla here':\n",
    "    \n",
    "    \"\"\"This is documentation part which \n",
    "    should be in first line otherwise Python \n",
    "    will not read it\"\"\"\n",
    "    print(a, b, args, k1, k2, kwargs)\n",
    "\n",
    "help(my_func2)\n"
   ]
  },
  {
   "cell_type": "code",
   "execution_count": null,
   "metadata": {
    "ExecuteTime": {
     "end_time": "2020-12-18T16:47:20.329288Z",
     "start_time": "2020-12-18T16:47:20.322620Z"
    }
   },
   "outputs": [],
   "source": [
    "my_func2.__defaults__"
   ]
  },
  {
   "cell_type": "code",
   "execution_count": null,
   "metadata": {
    "ExecuteTime": {
     "end_time": "2020-12-18T11:34:38.367624Z",
     "start_time": "2020-12-18T11:34:38.359610Z"
    }
   },
   "outputs": [],
   "source": [
    "my_func2.__doc__"
   ]
  },
  {
   "cell_type": "code",
   "execution_count": null,
   "metadata": {
    "ExecuteTime": {
     "end_time": "2020-12-18T11:38:51.519211Z",
     "start_time": "2020-12-18T11:38:51.511896Z"
    }
   },
   "outputs": [],
   "source": [
    "print(my_func2.__annotations__)"
   ]
  },
  {
   "cell_type": "code",
   "execution_count": null,
   "metadata": {
    "ExecuteTime": {
     "end_time": "2020-12-18T11:35:52.643030Z",
     "start_time": "2020-12-18T11:35:52.636587Z"
    }
   },
   "outputs": [],
   "source": [
    "my_func2(1, 2, 3, 4, 5, k1=3, k3= 4 , k4= 908, k5= 7898)"
   ]
  },
  {
   "cell_type": "code",
   "execution_count": null,
   "metadata": {
    "ExecuteTime": {
     "end_time": "2020-12-18T12:03:21.018544Z",
     "start_time": "2020-12-18T12:03:21.013386Z"
    }
   },
   "outputs": [],
   "source": [
    "id(lambda x: x**2)"
   ]
  },
  {
   "cell_type": "code",
   "execution_count": null,
   "metadata": {
    "ExecuteTime": {
     "end_time": "2020-12-18T12:04:12.368923Z",
     "start_time": "2020-12-18T12:04:12.359963Z"
    }
   },
   "outputs": [],
   "source": [
    "lambda x, y: x+y"
   ]
  },
  {
   "cell_type": "code",
   "execution_count": null,
   "metadata": {
    "ExecuteTime": {
     "end_time": "2020-12-18T12:11:35.551020Z",
     "start_time": "2020-12-18T12:11:35.545883Z"
    }
   },
   "outputs": [],
   "source": [
    "f = lambda x, *args, y, **kwargs: (x, *args, y , kwargs)"
   ]
  },
  {
   "cell_type": "code",
   "execution_count": null,
   "metadata": {
    "ExecuteTime": {
     "end_time": "2020-12-18T12:11:37.429564Z",
     "start_time": "2020-12-18T12:11:37.420488Z"
    }
   },
   "outputs": [],
   "source": [
    "f(1, 'a', 'b', y = 100, a = 200, b = 700)"
   ]
  },
  {
   "cell_type": "code",
   "execution_count": null,
   "metadata": {
    "ExecuteTime": {
     "end_time": "2020-12-18T14:28:40.584716Z",
     "start_time": "2020-12-18T14:28:40.582218Z"
    }
   },
   "outputs": [],
   "source": [
    "help(sorted)"
   ]
  },
  {
   "cell_type": "code",
   "execution_count": null,
   "metadata": {
    "ExecuteTime": {
     "end_time": "2020-12-18T14:57:52.512467Z",
     "start_time": "2020-12-18T14:57:52.510027Z"
    }
   },
   "outputs": [],
   "source": [
    "def avr(*args):\n",
    "    count = len(args)\n",
    "    total = sum(args)\n",
    "    print(\"Summation of\",args, \"is\", sum(args), \"and averag of them is\", total/count)"
   ]
  },
  {
   "cell_type": "code",
   "execution_count": null,
   "metadata": {
    "ExecuteTime": {
     "end_time": "2020-12-18T14:57:55.653720Z",
     "start_time": "2020-12-18T14:57:55.651192Z"
    }
   },
   "outputs": [],
   "source": [
    "avr(*l)"
   ]
  },
  {
   "cell_type": "code",
   "execution_count": null,
   "metadata": {
    "ExecuteTime": {
     "end_time": "2020-12-18T15:09:55.544438Z",
     "start_time": "2020-12-18T15:09:55.542008Z"
    }
   },
   "outputs": [],
   "source": [
    "from math import sqrt\n",
    "def calc(*args):\n",
    "    count = len(args)\n",
    "    total = sum(args)\n",
    "    srt = sum(args)**2\n",
    "    print(count, total, srt)\n"
   ]
  },
  {
   "cell_type": "code",
   "execution_count": null,
   "metadata": {
    "ExecuteTime": {
     "end_time": "2020-12-18T15:10:16.093175Z",
     "start_time": "2020-12-18T15:10:16.086445Z"
    }
   },
   "outputs": [],
   "source": [
    "calc(*l)"
   ]
  },
  {
   "cell_type": "code",
   "execution_count": null,
   "metadata": {
    "ExecuteTime": {
     "end_time": "2020-12-19T08:25:02.149038Z",
     "start_time": "2020-12-19T08:25:02.142532Z"
    }
   },
   "outputs": [],
   "source": [
    "def calc_dis(x):\n",
    "    return (x.real)**2 + (x.imag)**2\n",
    "\n",
    "calc_dis(1 + 1j)\n",
    "\n",
    "p = [1+2j, 0, 1-1j, 3+3j]\n",
    "\n",
    "#sorted(p)"
   ]
  },
  {
   "cell_type": "code",
   "execution_count": null,
   "metadata": {
    "ExecuteTime": {
     "end_time": "2020-12-19T08:26:06.305718Z",
     "start_time": "2020-12-19T08:26:06.300149Z"
    }
   },
   "outputs": [],
   "source": [
    "n = [1,2,3,4,5,6,7,8,9,10]"
   ]
  },
  {
   "cell_type": "code",
   "execution_count": null,
   "metadata": {
    "ExecuteTime": {
     "end_time": "2020-12-18T15:20:25.423420Z",
     "start_time": "2020-12-18T15:20:25.419915Z"
    }
   },
   "outputs": [],
   "source": [
    "sorted(p, key=calc_dis, reverse = True)"
   ]
  },
  {
   "cell_type": "code",
   "execution_count": null,
   "metadata": {
    "ExecuteTime": {
     "end_time": "2020-12-19T15:06:46.418824Z",
     "start_time": "2020-12-19T15:06:46.415753Z"
    }
   },
   "outputs": [],
   "source": [
    "total = 0 \n",
    "for i in n: \n",
    "    total += i **2\n",
    "    print(total) \n",
    "    \n",
    "f = lambda x, *args : x**2 \n",
    "\n",
    "print(f(*n))"
   ]
  },
  {
   "cell_type": "code",
   "execution_count": null,
   "metadata": {
    "ExecuteTime": {
     "end_time": "2020-12-18T15:20:31.181953Z",
     "start_time": "2020-12-18T15:20:31.177610Z"
    }
   },
   "outputs": [],
   "source": [
    "# alternatively you can use lambda function \n",
    "sorted(p, key= lambda x: (x.real)**2 + (x.imag)**2)"
   ]
  },
  {
   "cell_type": "code",
   "execution_count": null,
   "metadata": {
    "ExecuteTime": {
     "end_time": "2020-12-18T18:14:01.881597Z",
     "start_time": "2020-12-18T18:14:01.871668Z"
    }
   },
   "outputs": [],
   "source": [
    "s = 'najmeh'\n",
    "callable(s.format)"
   ]
  },
  {
   "cell_type": "code",
   "execution_count": null,
   "metadata": {
    "ExecuteTime": {
     "end_time": "2020-12-18T18:14:04.739389Z",
     "start_time": "2020-12-18T18:14:04.730541Z"
    }
   },
   "outputs": [],
   "source": [
    "s.casefold(), s.format()"
   ]
  },
  {
   "cell_type": "code",
   "execution_count": null,
   "metadata": {
    "ExecuteTime": {
     "end_time": "2020-12-19T08:52:30.274051Z",
     "start_time": "2020-12-19T08:52:30.027475Z"
    }
   },
   "outputs": [],
   "source": [
    "import pandas as pd"
   ]
  },
  {
   "cell_type": "markdown",
   "metadata": {},
   "source": [
    "# map, filter and zip function and list comprehension"
   ]
  },
  {
   "cell_type": "code",
   "execution_count": null,
   "metadata": {
    "ExecuteTime": {
     "end_time": "2020-12-25T14:58:59.721092Z",
     "start_time": "2020-12-25T14:58:59.713452Z"
    }
   },
   "outputs": [],
   "source": [
    "l1 = [1,2,3, 4,5,6]  # list\n",
    "l2 = [10,20,30, 2,3] # list \n",
    "l3 = \"Lovepython\"    # string\n",
    "l4 = 2,4,6,8,6,    # tuple\n",
    "\n",
    "def add(x,y):\n",
    "    return x + y \n",
    "\n",
    "def sq(x):\n",
    "    return x**2\n",
    "\n",
    "print(list(map(add, l1,l2)))\n",
    "print(list(map(sq, l1)))\n",
    "print(list(zip(l1,l2,l3)))\n",
    "print(list(filter(lambda x: x%2==0, l2)))"
   ]
  },
  {
   "cell_type": "code",
   "execution_count": null,
   "metadata": {
    "ExecuteTime": {
     "end_time": "2020-12-20T09:40:54.473448Z",
     "start_time": "2020-12-20T09:40:54.469974Z"
    }
   },
   "outputs": [],
   "source": [
    "def fact(n):\n",
    "    return 1 if n < 1 else n*fact(n-1)\n",
    "\n",
    "fact(3), fact(5), fact(8)\n",
    "\n",
    "results = map(fact, l1)\n",
    "\n",
    "for x in results:\n",
    "    print(x)"
   ]
  },
  {
   "cell_type": "code",
   "execution_count": null,
   "metadata": {
    "ExecuteTime": {
     "end_time": "2020-12-20T09:41:25.078317Z",
     "start_time": "2020-12-20T09:41:25.073206Z"
    }
   },
   "outputs": [],
   "source": [
    "for x in results:\n",
    "    print(x)"
   ]
  },
  {
   "cell_type": "code",
   "execution_count": null,
   "metadata": {
    "ExecuteTime": {
     "end_time": "2020-12-20T09:51:16.447238Z",
     "start_time": "2020-12-20T09:51:16.441849Z"
    }
   },
   "outputs": [],
   "source": [
    "results = list(map(lambda x, y, z: x + y + z, l1, l2, l4))\n",
    "print(results)"
   ]
  },
  {
   "cell_type": "code",
   "execution_count": null,
   "metadata": {
    "ExecuteTime": {
     "end_time": "2020-12-20T09:54:12.436086Z",
     "start_time": "2020-12-20T09:54:12.431595Z"
    }
   },
   "outputs": [],
   "source": [
    "x = range(25)\n",
    "\n",
    "# filter\n",
    "list(filter(lambda x: x % 3 ==0, x))"
   ]
  },
  {
   "cell_type": "code",
   "execution_count": null,
   "metadata": {
    "ExecuteTime": {
     "end_time": "2020-12-20T10:09:29.941309Z",
     "start_time": "2020-12-20T10:09:29.927871Z"
    }
   },
   "outputs": [],
   "source": [
    "l5 = [0, 1, 5, 8, 0, 9, '', 'a', False, True]\n",
    "\n",
    "list(filter(None, l5))"
   ]
  },
  {
   "cell_type": "code",
   "execution_count": null,
   "metadata": {
    "ExecuteTime": {
     "end_time": "2020-12-20T10:11:20.059118Z",
     "start_time": "2020-12-20T10:11:20.053402Z"
    }
   },
   "outputs": [],
   "source": [
    "list(zip(l1,l2,l3))"
   ]
  },
  {
   "cell_type": "code",
   "execution_count": null,
   "metadata": {
    "ExecuteTime": {
     "end_time": "2020-12-20T10:21:49.106973Z",
     "start_time": "2020-12-20T10:21:49.104202Z"
    }
   },
   "outputs": [],
   "source": [
    "# list comprehension \n",
    "[fact(x) for x in l1 if fact(x) < 100]"
   ]
  },
  {
   "cell_type": "code",
   "execution_count": null,
   "metadata": {
    "ExecuteTime": {
     "end_time": "2020-12-20T10:25:11.848885Z",
     "start_time": "2020-12-20T10:25:11.845162Z"
    }
   },
   "outputs": [],
   "source": [
    "[x + y for x,y in zip(l1,l2)]"
   ]
  },
  {
   "cell_type": "code",
   "execution_count": null,
   "metadata": {
    "ExecuteTime": {
     "end_time": "2020-12-20T10:29:40.724960Z",
     "start_time": "2020-12-20T10:29:40.721600Z"
    }
   },
   "outputs": [],
   "source": [
    "[x + y for x, y in zip(l1,l2) if (x+y)%2 == 0]"
   ]
  },
  {
   "cell_type": "markdown",
   "metadata": {},
   "source": [
    "# user defined reduce function "
   ]
  },
  {
   "cell_type": "code",
   "execution_count": null,
   "metadata": {
    "ExecuteTime": {
     "end_time": "2020-12-25T14:59:04.660734Z",
     "start_time": "2020-12-25T14:59:04.652003Z"
    }
   },
   "outputs": [],
   "source": [
    "_max = lambda a, b: a if a > b else b\n",
    "_min = lambda a, b: a if a < b else b\n",
    "_add = lambda a,b: a + b\n",
    "\n",
    "\n",
    "def _reduce(fn, sequence):\n",
    "    result = sequence[0]     # we are using indexing here therefore it should be a sequence type\n",
    "    for x in sequence[1:]:\n",
    "        result = fn(result, x)\n",
    "    return result\n",
    "\n",
    "_reduce(_max, l1)\n",
    "_reduce(_add, l1)"
   ]
  },
  {
   "cell_type": "code",
   "execution_count": null,
   "metadata": {
    "ExecuteTime": {
     "end_time": "2020-12-20T12:05:26.636043Z",
     "start_time": "2020-12-20T12:05:26.633319Z"
    }
   },
   "outputs": [],
   "source": [
    "from functools import reduce\n",
    "\n",
    "reduce(_max, {1,3,5,6}) \n",
    "# as we can see here it works fine for set, python is slightly different here for indexin"
   ]
  },
  {
   "cell_type": "code",
   "execution_count": null,
   "metadata": {
    "ExecuteTime": {
     "end_time": "2020-12-20T15:10:39.031494Z",
     "start_time": "2020-12-20T15:10:39.007765Z"
    }
   },
   "outputs": [],
   "source": [
    "import operator\n",
    "help(operator)"
   ]
  },
  {
   "cell_type": "code",
   "execution_count": null,
   "metadata": {
    "ExecuteTime": {
     "end_time": "2020-12-20T15:20:24.294729Z",
     "start_time": "2020-12-20T15:20:24.290817Z"
    }
   },
   "outputs": [],
   "source": [
    "operator.add(2,4), operator.truediv(3,8)"
   ]
  },
  {
   "cell_type": "code",
   "execution_count": null,
   "metadata": {
    "ExecuteTime": {
     "end_time": "2020-12-20T15:37:23.896524Z",
     "start_time": "2020-12-20T15:37:23.891843Z"
    }
   },
   "outputs": [],
   "source": [
    "operator.getitem(l1,2)"
   ]
  },
  {
   "cell_type": "code",
   "execution_count": null,
   "metadata": {
    "ExecuteTime": {
     "end_time": "2020-12-20T15:39:59.297389Z",
     "start_time": "2020-12-20T15:39:59.295233Z"
    }
   },
   "outputs": [],
   "source": [
    "# to delete an item from a list\n",
    "del l1[1]\n",
    "operator.setitem(l1, 1, 100)"
   ]
  },
  {
   "cell_type": "markdown",
   "metadata": {},
   "source": [
    "## Global and local scope \n",
    "\n",
    "\n",
    "\n",
    "In Python the global scope refers to the **module** scope.\n",
    "\n",
    "The scope of a variable is normally defined by where it is (lexically) defined in the code.\n"
   ]
  },
  {
   "cell_type": "code",
   "execution_count": null,
   "metadata": {
    "ExecuteTime": {
     "end_time": "2020-12-21T07:53:14.625321Z",
     "start_time": "2020-12-21T07:53:14.620832Z"
    }
   },
   "outputs": [],
   "source": [
    "a = 10 # global\n",
    "\n",
    "def my_func(n):\n",
    "    c = n **2  # here c and n are local to the function \n",
    "    print(a) # python looks upward and sees a\n",
    "    return c "
   ]
  },
  {
   "cell_type": "code",
   "execution_count": null,
   "metadata": {
    "ExecuteTime": {
     "end_time": "2020-12-21T07:53:28.158262Z",
     "start_time": "2020-12-21T07:53:28.140912Z"
    }
   },
   "outputs": [],
   "source": [
    "my_func(2)"
   ]
  },
  {
   "cell_type": "code",
   "execution_count": null,
   "metadata": {
    "ExecuteTime": {
     "end_time": "2020-12-20T17:53:54.193467Z",
     "start_time": "2020-12-20T17:53:54.184412Z"
    }
   },
   "outputs": [],
   "source": [
    "def my_func(n):\n",
    "    print('global:', a)\n",
    "    c = a ** n\n",
    "    return c"
   ]
  },
  {
   "cell_type": "code",
   "execution_count": null,
   "metadata": {
    "ExecuteTime": {
     "end_time": "2020-12-20T17:57:17.272753Z",
     "start_time": "2020-12-20T17:57:17.267346Z"
    }
   },
   "outputs": [],
   "source": [
    "#In order to change the value of a global variable within an inner scope, we can use \n",
    "#the **global** keyword as follows:\n",
    "def my_func(n):\n",
    "    \"\"\" Here we define a variabale and set it as global\"\"\"\n",
    "    global a\n",
    "    a = 2\n",
    "    c = a ** n\n",
    "    return c"
   ]
  },
  {
   "cell_type": "code",
   "execution_count": null,
   "metadata": {
    "ExecuteTime": {
     "end_time": "2020-12-20T17:57:19.471238Z",
     "start_time": "2020-12-20T17:57:19.463047Z"
    }
   },
   "outputs": [],
   "source": [
    "my_func(3)"
   ]
  },
  {
   "cell_type": "markdown",
   "metadata": {},
   "source": [
    "## non local scope "
   ]
  },
  {
   "cell_type": "code",
   "execution_count": null,
   "metadata": {
    "ExecuteTime": {
     "end_time": "2020-12-20T18:54:25.229249Z",
     "start_time": "2020-12-20T18:54:25.222023Z"
    }
   },
   "outputs": [],
   "source": [
    "def outer_func():\n",
    "    x = 'hello'\n",
    "    \n",
    "    def inner_func():\n",
    "        print(x)\n",
    "    \n",
    "    inner_func()\n",
    "outer_func()"
   ]
  },
  {
   "cell_type": "code",
   "execution_count": null,
   "metadata": {
    "ExecuteTime": {
     "end_time": "2020-12-20T18:49:52.035754Z",
     "start_time": "2020-12-20T18:49:52.022078Z"
    }
   },
   "outputs": [],
   "source": [
    "def outer():\n",
    "    x = 'hello'\n",
    "    def inner1():\n",
    "        nonlocal x\n",
    "        x = 'python'\n",
    "        def inner2():\n",
    "            nonlocal x\n",
    "            x = 'monty'\n",
    "        print('inner1 (before):---->', x)\n",
    "        inner2()\n",
    "        print('inner1 (after):----->', x)\n",
    "    inner1()\n",
    "    print('outer:', x)"
   ]
  },
  {
   "cell_type": "code",
   "execution_count": null,
   "metadata": {
    "ExecuteTime": {
     "end_time": "2020-12-20T18:49:09.226923Z",
     "start_time": "2020-12-20T18:49:09.224563Z"
    }
   },
   "outputs": [],
   "source": [
    "outer()"
   ]
  },
  {
   "cell_type": "code",
   "execution_count": null,
   "metadata": {
    "ExecuteTime": {
     "end_time": "2020-12-20T18:50:15.406445Z",
     "start_time": "2020-12-20T18:50:15.398162Z"
    }
   },
   "outputs": [],
   "source": [
    "x = 100\n",
    "def outer():\n",
    "    x = 'python'  # masks global x\n",
    "    def inner1():\n",
    "        nonlocal x  # refers to x in outer\n",
    "        x = 'monty' # changed x in outer scope\n",
    "        def inner2():\n",
    "            global x  # refers to x in global scope\n",
    "            x = 'hello'\n",
    "        print('inner1 (before):', x)\n",
    "        inner2()\n",
    "        print('inner1 (after):', x)\n",
    "    inner1()\n",
    "    print('outer', x)    "
   ]
  },
  {
   "cell_type": "code",
   "execution_count": null,
   "metadata": {
    "ExecuteTime": {
     "end_time": "2020-12-20T18:50:35.924596Z",
     "start_time": "2020-12-20T18:50:35.917471Z"
    }
   },
   "outputs": [],
   "source": [
    "outer()\n",
    "print(x)"
   ]
  },
  {
   "cell_type": "markdown",
   "metadata": {},
   "source": [
    "# Closures\n",
    "\n",
    "\n",
    "when we consider inner, we really are looking at:\n",
    "• the function inner\n",
    "• the free variable x (with current value python)\n",
    "This is called a closure"
   ]
  },
  {
   "cell_type": "code",
   "execution_count": null,
   "metadata": {
    "ExecuteTime": {
     "end_time": "2020-12-23T12:24:14.056964Z",
     "start_time": "2020-12-23T12:24:14.054248Z"
    }
   },
   "outputs": [],
   "source": [
    "def outer():\n",
    "    x = \"hello\"\n",
    "    y = \"world\"\n",
    "    def inner():\n",
    "        print(x, y)\n",
    "    return inner "
   ]
  },
  {
   "cell_type": "code",
   "execution_count": null,
   "metadata": {
    "ExecuteTime": {
     "end_time": "2020-12-23T12:24:15.340602Z",
     "start_time": "2020-12-23T12:24:15.338364Z"
    }
   },
   "outputs": [],
   "source": [
    "fn = outer()"
   ]
  },
  {
   "cell_type": "code",
   "execution_count": null,
   "metadata": {
    "ExecuteTime": {
     "end_time": "2020-12-23T12:24:20.312109Z",
     "start_time": "2020-12-23T12:24:20.309361Z"
    }
   },
   "outputs": [],
   "source": [
    "fn.__code__.co_freevars\n"
   ]
  },
  {
   "cell_type": "code",
   "execution_count": null,
   "metadata": {
    "ExecuteTime": {
     "end_time": "2020-12-23T12:59:21.481594Z",
     "start_time": "2020-12-23T12:59:21.475613Z"
    },
    "scrolled": true
   },
   "outputs": [],
   "source": [
    "fn.__closure__\n",
    "\n",
    "# it shows var = x asign to a cell and cell assign to another string/list/.. object"
   ]
  },
  {
   "cell_type": "code",
   "execution_count": null,
   "metadata": {
    "ExecuteTime": {
     "end_time": "2020-12-24T14:04:36.494431Z",
     "start_time": "2020-12-24T14:04:36.491173Z"
    }
   },
   "outputs": [],
   "source": [
    "def outer():\n",
    "    count = 0 # different scope but shared label, both pointing to the same cell \n",
    "    def inc():\n",
    "        nonlocal count\n",
    "        count += 1 \n",
    "        return count\n",
    "    return inc   # reurning the closure inc + count \n",
    "\n",
    "fn = outer()\n",
    "fn.__code__.co_freevars\n",
    "print(fn.__closure__)\n",
    "print(hex(id(0)))"
   ]
  },
  {
   "cell_type": "code",
   "execution_count": null,
   "metadata": {
    "ExecuteTime": {
     "end_time": "2020-12-24T14:13:24.000788Z",
     "start_time": "2020-12-24T14:13:23.998210Z"
    }
   },
   "outputs": [],
   "source": [
    "# here we have two closure and one free variable within the same scope\n",
    "def outer():\n",
    "    count = 0\n",
    "    def inc1():\n",
    "        nonlocal count\n",
    "        count += 1\n",
    "        return count\n",
    "    \n",
    "    def inc2():\n",
    "        nonlocal count\n",
    "        count += 1\n",
    "        return count\n",
    "    \n",
    "    return inc1, inc2\n",
    "\n",
    "inc1, inc2= outer()\n",
    "\n",
    "inc1()\n",
    "\n",
    "inc2()"
   ]
  },
  {
   "cell_type": "code",
   "execution_count": null,
   "metadata": {
    "ExecuteTime": {
     "end_time": "2020-12-24T14:29:12.436996Z",
     "start_time": "2020-12-24T14:29:12.433184Z"
    }
   },
   "outputs": [],
   "source": [
    "def pow(n):\n",
    "    # n is local to pow\n",
    "    def inner(x):\n",
    "        # x is local to inner\n",
    "        return x ** n\n",
    "    return inner\n",
    "\n",
    "square = pow(2)\n",
    "cube = pow(3)\n",
    "# now we can call the closure\n",
    "square(2)\n",
    "cube (2)\n",
    "\n",
    "square(4)"
   ]
  },
  {
   "cell_type": "markdown",
   "metadata": {},
   "source": [
    "## Closure applications "
   ]
  },
  {
   "cell_type": "code",
   "execution_count": null,
   "metadata": {
    "ExecuteTime": {
     "end_time": "2020-12-24T16:24:42.857200Z",
     "start_time": "2020-12-24T16:24:42.852053Z"
    }
   },
   "outputs": [],
   "source": [
    "# calculate average of numbers \n",
    "\n",
    "def average():\n",
    "    numbers = []\n",
    "    def add(digit):\n",
    "        numbers.append(digit)   # nonlocal variable\n",
    "        total = sum(numbers)\n",
    "        count = len(numbers)\n",
    "        return total / count\n",
    "    return add    # return closure \n",
    "\n",
    "cls = average()\n",
    "\n",
    "cls(20)"
   ]
  },
  {
   "cell_type": "code",
   "execution_count": null,
   "metadata": {
    "ExecuteTime": {
     "end_time": "2020-12-24T16:28:41.819212Z",
     "start_time": "2020-12-24T16:28:41.812308Z"
    }
   },
   "outputs": [],
   "source": [
    "cls.__closure__"
   ]
  },
  {
   "cell_type": "code",
   "execution_count": null,
   "metadata": {
    "ExecuteTime": {
     "end_time": "2020-12-25T08:23:57.036309Z",
     "start_time": "2020-12-25T08:23:57.031058Z"
    }
   },
   "outputs": [],
   "source": [
    "def counter(initial_value=0):\n",
    "    def inc(increment= 1):\n",
    "        nonlocal initial_value \n",
    "        initial_value += increment\n",
    "        return initial_value\n",
    "    return inc   # return closure\n",
    "    \n"
   ]
  },
  {
   "cell_type": "code",
   "execution_count": null,
   "metadata": {
    "ExecuteTime": {
     "end_time": "2020-12-25T08:23:59.097466Z",
     "start_time": "2020-12-25T08:23:59.095522Z"
    }
   },
   "outputs": [],
   "source": [
    "counter1 = counter()    # assing hen call it"
   ]
  },
  {
   "cell_type": "code",
   "execution_count": null,
   "metadata": {
    "ExecuteTime": {
     "end_time": "2020-12-25T08:24:09.254324Z",
     "start_time": "2020-12-25T08:24:09.248401Z"
    }
   },
   "outputs": [],
   "source": [
    "counter1(2)"
   ]
  },
  {
   "cell_type": "code",
   "execution_count": null,
   "metadata": {
    "ExecuteTime": {
     "end_time": "2020-12-25T08:50:18.509775Z",
     "start_time": "2020-12-25T08:50:18.507624Z"
    }
   },
   "outputs": [],
   "source": [
    "# Factorial function \n",
    "def factorial(n):\n",
    "    product = 1\n",
    "    for i in range(2, n+1):\n",
    "        product *= i\n",
    "    return product "
   ]
  },
  {
   "cell_type": "code",
   "execution_count": null,
   "metadata": {
    "ExecuteTime": {
     "end_time": "2020-12-25T08:50:33.193885Z",
     "start_time": "2020-12-25T08:50:33.189180Z"
    }
   },
   "outputs": [],
   "source": [
    "factorial(3)"
   ]
  },
  {
   "cell_type": "markdown",
   "metadata": {},
   "source": [
    "# Decorstor"
   ]
  },
  {
   "cell_type": "code",
   "execution_count": null,
   "metadata": {
    "ExecuteTime": {
     "end_time": "2020-12-25T12:30:06.079106Z",
     "start_time": "2020-12-25T12:30:06.075386Z"
    }
   },
   "outputs": [],
   "source": [
    "def counter(fn):\n",
    "    count = 0\n",
    "    \n",
    "    def inner(*args, **kwargs):\n",
    "        \"\"\" This is inner closure\"\"\"\n",
    "        nonlocal count\n",
    "        count += 1\n",
    "        print('Function *{0}* (id={1}) was called {2} times'.format(fn.__name__, id(fn),count))\n",
    "        return fn(*args, **kwargs)\n",
    "    return inner\n",
    "\n",
    "def add(a: int, b: int =0):\n",
    "    \"\"\"\n",
    "    adds two values \n",
    "    \"\"\"\n",
    "    return a + b \n",
    "\n",
    "help(add)\n",
    "\n",
    "id(add) # memory address of the function \n",
    "\n",
    "# counter will return a closure and we assign it back to add function\n",
    "add = counter(add)\n",
    "\n",
    "id(add)\n",
    "\n",
    "help(add)"
   ]
  },
  {
   "cell_type": "code",
   "execution_count": null,
   "metadata": {
    "ExecuteTime": {
     "end_time": "2020-12-25T11:52:59.687354Z",
     "start_time": "2020-12-25T11:52:59.676021Z"
    }
   },
   "outputs": [],
   "source": [
    "add(10,20)"
   ]
  },
  {
   "cell_type": "code",
   "execution_count": null,
   "metadata": {
    "ExecuteTime": {
     "end_time": "2020-12-25T11:53:03.538091Z",
     "start_time": "2020-12-25T11:53:03.534110Z"
    }
   },
   "outputs": [],
   "source": [
    "def mult(a: float, b: float, c: float=1, *, d) -> float:\n",
    "    \"\"\"\n",
    "    returns the product of a, b, c and d\n",
    "    \"\"\"\n",
    "    return a * b * c * d "
   ]
  },
  {
   "cell_type": "code",
   "execution_count": null,
   "metadata": {
    "ExecuteTime": {
     "end_time": "2020-12-25T11:53:08.840644Z",
     "start_time": "2020-12-25T11:53:08.836105Z"
    }
   },
   "outputs": [],
   "source": [
    "mult(2, 3, d = 2)"
   ]
  },
  {
   "cell_type": "code",
   "execution_count": null,
   "metadata": {
    "ExecuteTime": {
     "end_time": "2020-12-25T11:53:11.558064Z",
     "start_time": "2020-12-25T11:53:11.555000Z"
    }
   },
   "outputs": [],
   "source": [
    "mult = counter(mult)"
   ]
  },
  {
   "cell_type": "code",
   "execution_count": null,
   "metadata": {
    "ExecuteTime": {
     "end_time": "2020-12-25T11:53:14.408161Z",
     "start_time": "2020-12-25T11:53:14.403145Z"
    }
   },
   "outputs": [],
   "source": [
    "mult(2,6, d= 2)"
   ]
  },
  {
   "cell_type": "code",
   "execution_count": null,
   "metadata": {
    "ExecuteTime": {
     "end_time": "2020-12-25T12:03:28.063696Z",
     "start_time": "2020-12-25T12:03:28.059729Z"
    }
   },
   "outputs": [],
   "source": [
    "@counter\n",
    "def my_func(a: int, s: str) -> str:\n",
    "    return a * s"
   ]
  },
  {
   "cell_type": "code",
   "execution_count": null,
   "metadata": {
    "ExecuteTime": {
     "end_time": "2020-12-25T12:01:23.769891Z",
     "start_time": "2020-12-25T12:01:23.766051Z"
    }
   },
   "outputs": [],
   "source": [
    "help(my_func)"
   ]
  },
  {
   "cell_type": "code",
   "execution_count": null,
   "metadata": {
    "ExecuteTime": {
     "end_time": "2020-12-25T12:03:30.376815Z",
     "start_time": "2020-12-25T12:03:30.371673Z"
    }
   },
   "outputs": [],
   "source": [
    "my_func(3,'Merry Xmass')"
   ]
  },
  {
   "cell_type": "code",
   "execution_count": 1,
   "metadata": {
    "ExecuteTime": {
     "end_time": "2020-12-25T15:18:58.982524Z",
     "start_time": "2020-12-25T15:18:58.976057Z"
    }
   },
   "outputs": [],
   "source": [
    "# timing how long it takes to run a certain function.\n",
    "\n",
    "def timeprocess(fn):\n",
    "    from time import perf_counter\n",
    "    from functools import wraps\n",
    "    \n",
    "    @wraps(fn)\n",
    "    def inner(*args, **kwargs):\n",
    "        start = perf_counter()\n",
    "        result = fn(*args, **kwargs)\n",
    "        end = perf_counter()\n",
    "        elapsed = end - start\n",
    "        \n",
    "        args_ = [str(a) for a in args]\n",
    "        kwargs_ = ['{0}={1}'.format(k, v) for (k, v) in kwargs.items()]\n",
    "        all_args = args_ + kwargs_\n",
    "        args_str = ','.join(all_args)\n",
    "        print('{0}({1}) took exacyly {2:.6f}s to run.'.format(fn.__name__, \n",
    "                                                         args_str,\n",
    "                                                         elapsed))\n",
    "        return result\n",
    "    \n",
    "    return inner"
   ]
  },
  {
   "cell_type": "markdown",
   "metadata": {},
   "source": [
    "calculate the n-th Fibonacci number:\n",
    "\n",
    "`1, 1, 2, 3, 5, 8, ...`\n",
    "\n",
    "implement this using three different methods:\n",
    "1. recursion\n",
    "2. a loop\n",
    "3. functional programming (reduce)\n",
    "\n",
    "We use a 1-based system, e.g. first Fibonnaci number has index 1, etc."
   ]
  },
  {
   "cell_type": "code",
   "execution_count": 3,
   "metadata": {
    "ExecuteTime": {
     "end_time": "2020-12-25T15:19:15.205820Z",
     "start_time": "2020-12-25T15:19:15.202836Z"
    }
   },
   "outputs": [],
   "source": [
    "#Using Recursion\n",
    "@timeprocess\n",
    "def calc_recursive_fib(n):\n",
    "    if n <=2:\n",
    "        return 1\n",
    "    else:\n",
    "        return calc_recursive_fib(n-1) + calc_recursive_fib(n-2)"
   ]
  },
  {
   "cell_type": "code",
   "execution_count": 4,
   "metadata": {
    "ExecuteTime": {
     "end_time": "2020-12-25T15:19:20.237482Z",
     "start_time": "2020-12-25T15:19:20.229596Z"
    }
   },
   "outputs": [
    {
     "name": "stdout",
     "output_type": "stream",
     "text": [
      "calc_recursive_fib(2) took exacyly 0.000000s to run.\n",
      "calc_recursive_fib(1) took exacyly 0.000000s to run.\n",
      "calc_recursive_fib(3) took exacyly 0.000203s to run.\n",
      "calc_recursive_fib(2) took exacyly 0.000000s to run.\n",
      "calc_recursive_fib(4) took exacyly 0.000240s to run.\n",
      "calc_recursive_fib(2) took exacyly 0.000000s to run.\n",
      "calc_recursive_fib(1) took exacyly 0.000000s to run.\n",
      "calc_recursive_fib(3) took exacyly 0.000278s to run.\n",
      "calc_recursive_fib(5) took exacyly 0.000540s to run.\n",
      "calc_recursive_fib(2) took exacyly 0.000000s to run.\n",
      "calc_recursive_fib(1) took exacyly 0.000000s to run.\n",
      "calc_recursive_fib(3) took exacyly 0.000020s to run.\n",
      "calc_recursive_fib(2) took exacyly 0.000000s to run.\n",
      "calc_recursive_fib(4) took exacyly 0.000041s to run.\n",
      "calc_recursive_fib(6) took exacyly 0.000602s to run.\n"
     ]
    },
    {
     "data": {
      "text/plain": [
       "8"
      ]
     },
     "execution_count": 4,
     "metadata": {},
     "output_type": "execute_result"
    }
   ],
   "source": [
    "calc_recursive_fib(6)"
   ]
  },
  {
   "cell_type": "code",
   "execution_count": 6,
   "metadata": {
    "ExecuteTime": {
     "end_time": "2020-12-25T15:19:51.682778Z",
     "start_time": "2020-12-25T15:19:51.680824Z"
    }
   },
   "outputs": [],
   "source": [
    "@timeprocess\n",
    "def fib_recursed(n):\n",
    "    return calc_recursive_fib(n)"
   ]
  },
  {
   "cell_type": "code",
   "execution_count": null,
   "metadata": {
    "ExecuteTime": {
     "end_time": "2020-12-25T14:55:39.744550Z",
     "start_time": "2020-12-25T14:55:39.742982Z"
    }
   },
   "outputs": [],
   "source": [
    "#fib_recursed(23)\n",
    "#fib_recursed(23) took 2.620489s to run."
   ]
  },
  {
   "cell_type": "code",
   "execution_count": 7,
   "metadata": {
    "ExecuteTime": {
     "end_time": "2020-12-25T15:20:03.757165Z",
     "start_time": "2020-12-25T15:20:03.752585Z"
    }
   },
   "outputs": [],
   "source": [
    "# Using a Loop\n",
    "@timeprocess\n",
    "def fib_loop(n):\n",
    "    fib_1 = 1\n",
    "    fib_2 = 1\n",
    "    for i in range(3, n+1):\n",
    "        fib_1, fib_2 = fib_2, fib_1 + fib_2\n",
    "    return fib_2 "
   ]
  },
  {
   "cell_type": "code",
   "execution_count": 8,
   "metadata": {
    "ExecuteTime": {
     "end_time": "2020-12-25T15:20:10.019156Z",
     "start_time": "2020-12-25T15:20:10.013425Z"
    }
   },
   "outputs": [
    {
     "name": "stdout",
     "output_type": "stream",
     "text": [
      "fib_loop(23) took exacyly 0.000006s to run.\n"
     ]
    },
    {
     "data": {
      "text/plain": [
       "28657"
      ]
     },
     "execution_count": 8,
     "metadata": {},
     "output_type": "execute_result"
    }
   ],
   "source": [
    "fib_loop(23)"
   ]
  },
  {
   "cell_type": "markdown",
   "metadata": {},
   "source": [
    "### using reduce function\n",
    "\n",
    "We first need to understand how we are going to calculate the Fibonnaci sequence using reduce: \n",
    "\n",
    "<pre>\n",
    "n=1:\n",
    "(1, 0) --> (1, 1)\n",
    "\n",
    "n=2:\n",
    "(1, 0) --> (1, 1) --> (1 + 1, 1) = (2, 1)  : result = 2 \n",
    "\n",
    "n=3\n",
    "(1, 0) --> (1, 1) --> (2, 1) --> (2+1, 2) = (3, 2)  : result = 3\n",
    "\n",
    "n=4\n",
    "(1, 0) --> (1, 1) --> (2, 1) --> (3, 2) --> (5, 3)  : result = 5\n",
    "</pre>\n",
    "\n",
    "In general each step in the reduction is as follows:\n",
    "\n",
    "<pre>\n",
    "previous value = (a, b)\n",
    "new value = (a+b, a)\n",
    "</pre>\n",
    "\n",
    "If we start our reduction with an initial value of `(1, 0)`, we need to run our \"loop\" n times.\n",
    "\n",
    "We therefore use a \"dummy\" sequence of length `n` to create `n` steps in our reduce."
   ]
  },
  {
   "cell_type": "code",
   "execution_count": 9,
   "metadata": {
    "ExecuteTime": {
     "end_time": "2020-12-25T15:20:33.362784Z",
     "start_time": "2020-12-25T15:20:33.358023Z"
    }
   },
   "outputs": [],
   "source": [
    "from functools import reduce\n",
    "\n",
    "@timeprocess\n",
    "def fib_reduce(n):\n",
    "    initial = (1, 0)\n",
    "    dummy = range(n-1)\n",
    "    fib_n = reduce(lambda prev, n: (prev[0] + prev[1], prev[0]), \n",
    "                   dummy, \n",
    "                   initial)\n",
    "    return fib_n[0]  "
   ]
  },
  {
   "cell_type": "code",
   "execution_count": 13,
   "metadata": {
    "ExecuteTime": {
     "end_time": "2020-12-25T15:24:59.817753Z",
     "start_time": "2020-12-25T15:24:59.813574Z"
    },
    "scrolled": false
   },
   "outputs": [
    {
     "name": "stdout",
     "output_type": "stream",
     "text": [
      "fib_reduce(1000) took exacyly 0.000225s to run.\n"
     ]
    },
    {
     "data": {
      "text/plain": [
       "43466557686937456435688527675040625802564660517371780402481729089536555417949051890403879840079255169295922593080322634775209689623239873322471161642996440906533187938298969649928516003704476137795166849228875"
      ]
     },
     "execution_count": 13,
     "metadata": {},
     "output_type": "execute_result"
    }
   ],
   "source": [
    "fib_reduce(1000)"
   ]
  },
  {
   "cell_type": "code",
   "execution_count": 14,
   "metadata": {
    "ExecuteTime": {
     "end_time": "2020-12-25T15:25:06.958938Z",
     "start_time": "2020-12-25T15:25:06.955394Z"
    }
   },
   "outputs": [
    {
     "name": "stdout",
     "output_type": "stream",
     "text": [
      "fib_loop(1000) took exacyly 0.000074s to run.\n"
     ]
    },
    {
     "data": {
      "text/plain": [
       "43466557686937456435688527675040625802564660517371780402481729089536555417949051890403879840079255169295922593080322634775209689623239873322471161642996440906533187938298969649928516003704476137795166849228875"
      ]
     },
     "execution_count": 14,
     "metadata": {},
     "output_type": "execute_result"
    }
   ],
   "source": [
    "fib_loop(1000)"
   ]
  },
  {
   "cell_type": "markdown",
   "metadata": {},
   "source": [
    "Loop is faster."
   ]
  },
  {
   "cell_type": "markdown",
   "metadata": {},
   "source": [
    "# Tuples as data structure\n",
    "\n",
    "\n",
    "Tuples are an immutable container type.\n",
    "\n",
    "They contain a collection of objects. The tuple is a sequence type - this means order matters (and is preserved) and elements can be accessed by index (zero based), slicing, or iteration.\n",
    "\n",
    "Other common sequence types in Python include lists and strings. Strings, like tuples are immutable, whereas lists are mutable.\n",
    "\n",
    "Tuples are sometimes presented as immutable lists, but in fact, they could be compared more closely to strings with one major difference: strings are homogeneous sequences, while tuples can be heterogeneous."
   ]
  },
  {
   "cell_type": "code",
   "execution_count": null,
   "metadata": {
    "ExecuteTime": {
     "end_time": "2020-12-22T07:52:11.938573Z",
     "start_time": "2020-12-22T07:52:11.936253Z"
    }
   },
   "outputs": [],
   "source": [
    "a = 10,20,30,40, 55, 89, 90, 83,87, 90"
   ]
  },
  {
   "cell_type": "code",
   "execution_count": null,
   "metadata": {
    "ExecuteTime": {
     "end_time": "2020-12-21T16:39:26.635614Z",
     "start_time": "2020-12-21T16:39:26.624399Z"
    }
   },
   "outputs": [],
   "source": [
    "type(a)"
   ]
  },
  {
   "cell_type": "code",
   "execution_count": null,
   "metadata": {
    "ExecuteTime": {
     "end_time": "2020-12-21T16:44:32.311497Z",
     "start_time": "2020-12-21T16:44:32.308695Z"
    }
   },
   "outputs": [],
   "source": [
    "def print_tuple(t):\n",
    "    for e in t:\n",
    "        print(e)\n",
    "print_tuple(a)"
   ]
  },
  {
   "cell_type": "code",
   "execution_count": null,
   "metadata": {
    "ExecuteTime": {
     "end_time": "2020-12-22T07:57:46.637559Z",
     "start_time": "2020-12-22T07:57:46.629776Z"
    }
   },
   "outputs": [],
   "source": [
    "# slicing \n",
    "a[2:5]\n",
    "# unpacking, extracting data \n",
    "a[7]\n",
    "# Dummy variable (_, is just convention)\n",
    "x, *_, y,z = a # unpacking, only assign first and the last two\n",
    "# and the others just left it aside\n",
    "\n",
    "print(x, y, z)\n",
    "\n",
    "print(_)"
   ]
  },
  {
   "cell_type": "code",
   "execution_count": null,
   "metadata": {
    "ExecuteTime": {
     "end_time": "2020-12-22T08:40:21.293586Z",
     "start_time": "2020-12-22T08:40:21.287876Z"
    }
   },
   "outputs": [],
   "source": [
    "london = 'London', 'UK', 8_780_000\n",
    "new_york = 'New York', 'USA', 8_500_000\n",
    "beijing = 'Beijing', 'China', 21_000_000\n",
    "\n",
    "cities = [london, new_york, beijing]"
   ]
  },
  {
   "cell_type": "code",
   "execution_count": null,
   "metadata": {
    "ExecuteTime": {
     "end_time": "2020-12-22T08:42:43.850459Z",
     "start_time": "2020-12-22T08:42:43.845213Z"
    }
   },
   "outputs": [],
   "source": [
    "# more pythonic way \n",
    "[e[2] for e in cities]"
   ]
  },
  {
   "cell_type": "code",
   "execution_count": null,
   "metadata": {
    "ExecuteTime": {
     "end_time": "2020-12-21T17:34:46.387146Z",
     "start_time": "2020-12-21T17:34:46.384823Z"
    }
   },
   "outputs": [],
   "source": [
    "total = sum([e[2] for e in cities])\n",
    "print(total)"
   ]
  },
  {
   "cell_type": "code",
   "execution_count": null,
   "metadata": {
    "ExecuteTime": {
     "end_time": "2020-12-21T17:41:33.588948Z",
     "start_time": "2020-12-21T17:41:33.582662Z"
    }
   },
   "outputs": [],
   "source": [
    "for city, country, population in cities:\n",
    "    print(f'city={city}, population={population}')"
   ]
  },
  {
   "cell_type": "code",
   "execution_count": null,
   "metadata": {
    "ExecuteTime": {
     "end_time": "2020-12-22T08:49:33.256299Z",
     "start_time": "2020-12-22T08:49:33.251574Z"
    }
   },
   "outputs": [],
   "source": [
    "# The enumerate function produces an iterable from another iterable but contains the index number. Values are returned as tuples, where the first position is the index value,\n",
    "#and the second position is the value \n",
    "\n",
    "for index, value in enumerate(cities):\n",
    "    print(f'{index}: {value}')"
   ]
  },
  {
   "cell_type": "code",
   "execution_count": null,
   "metadata": {
    "ExecuteTime": {
     "end_time": "2020-12-22T08:47:16.776632Z",
     "start_time": "2020-12-22T08:47:16.771352Z"
    }
   },
   "outputs": [],
   "source": [
    "record = 'DJIA', 2018, 1, 19, 25_987, 26_072, 25_942, 26_072\n",
    "\n",
    "# We could then unpack the record using straight unpacking:\n",
    "symbol, year, month, day, open_, high, low, close = record\n",
    "symbol"
   ]
  },
  {
   "cell_type": "code",
   "execution_count": null,
   "metadata": {
    "ExecuteTime": {
     "end_time": "2020-12-22T08:47:43.269389Z",
     "start_time": "2020-12-22T08:47:43.264848Z"
    }
   },
   "outputs": [],
   "source": [
    "symbol, *_, close = record"
   ]
  },
  {
   "cell_type": "code",
   "execution_count": null,
   "metadata": {
    "ExecuteTime": {
     "end_time": "2020-12-22T08:48:01.814097Z",
     "start_time": "2020-12-22T08:48:01.805754Z"
    }
   },
   "outputs": [],
   "source": [
    "print(*_)"
   ]
  },
  {
   "cell_type": "markdown",
   "metadata": {},
   "source": [
    "## Named tuples\n",
    "\n",
    "The ``namedtuple`` function in ``collections`` allows us to create a tuple that also has names attached to each field (aka property). This can be handy to reference data in the tuple structure by name instead of just relying on position.\n",
    "\n",
    "The ``namedtuple`` function is basically a class factory that creates a new type of class that uses a tuple as its underlying data storage (in fact, named tuples inherit from `tuple`), but layers in field names to each position and makes a property out of the field name.\n",
    "\n",
    "The ``namedtuple`` function creates a **class**, and we then use that class to instantiate our instances of named tuples.\n",
    "\n",
    "To use the ``namedtuple`` function we therefore need to select a class **name**, as well as indicate the **property** names, in the order in which they will be stored and accessed in the tuple.\n",
    "\n",
    "Note that a ``namedtuple``, like the regular ``tuple`` is an **immutable** data structure. (In fact, named tuples inherit from tuples - we'll revisit this in our section on metaclasses)"
   ]
  },
  {
   "cell_type": "code",
   "execution_count": null,
   "metadata": {
    "ExecuteTime": {
     "end_time": "2020-12-22T14:06:59.179517Z",
     "start_time": "2020-12-22T14:06:59.175384Z"
    }
   },
   "outputs": [],
   "source": [
    "from collections import namedtuple"
   ]
  },
  {
   "cell_type": "code",
   "execution_count": null,
   "metadata": {
    "ExecuteTime": {
     "end_time": "2020-12-22T11:52:06.534624Z",
     "start_time": "2020-12-22T11:52:06.529345Z"
    }
   },
   "outputs": [],
   "source": [
    "help(namedtuple)"
   ]
  },
  {
   "cell_type": "code",
   "execution_count": null,
   "metadata": {
    "ExecuteTime": {
     "end_time": "2020-12-22T14:11:24.996825Z",
     "start_time": "2020-12-22T14:11:24.994683Z"
    }
   },
   "outputs": [],
   "source": [
    "Point2D = namedtuple(\"Point2D\", ['x','y'])\n",
    "\n",
    "# so now we have a class named point2D\n",
    "\n",
    "# we can create an instance \n",
    "pt1 = Point2D(10,20)"
   ]
  },
  {
   "cell_type": "code",
   "execution_count": null,
   "metadata": {
    "ExecuteTime": {
     "end_time": "2020-12-22T14:55:23.748741Z",
     "start_time": "2020-12-22T14:55:23.742440Z"
    }
   },
   "outputs": [],
   "source": [
    "pt1\n",
    "\n",
    "\n",
    "Point3d = namedtuple('Point3d', ['x','y','z'])\n",
    "\n",
    "pt2 = Point3d(10,20,30)\n",
    "\n",
    "pt2\n",
    "\n",
    "\n",
    "a = (10, 20)\n",
    "b = (10, 20)\n",
    "\n",
    "\n",
    "a is b\n",
    "\n",
    "a == b"
   ]
  },
  {
   "cell_type": "code",
   "execution_count": null,
   "metadata": {
    "ExecuteTime": {
     "end_time": "2020-12-22T14:52:55.807045Z",
     "start_time": "2020-12-22T14:52:55.804114Z"
    }
   },
   "outputs": [],
   "source": [
    "class Point3D:\n",
    "    def __init__(self, x, y, z):\n",
    "        self.x = x\n",
    "        self.y = y\n",
    "        self.z = z\n",
    "    \n",
    "    def __repr__(self):\n",
    "        return f\"Point3D(x={self.x}, y={self.y}, z={self.z})\"\n",
    "    \n",
    "    def __eq__(self, other):\n",
    "        if isinstance(other, Point3D):\n",
    "            return self.x == other.x and self.y == other.y and self.z == other.z\n",
    "        else:\n",
    "            return False"
   ]
  },
  {
   "cell_type": "code",
   "execution_count": null,
   "metadata": {
    "ExecuteTime": {
     "end_time": "2020-12-22T14:52:55.840114Z",
     "start_time": "2020-12-22T14:52:55.808047Z"
    }
   },
   "outputs": [],
   "source": [
    "pt1 = Point3D(10, 20, 30)\n",
    "pt2 = Point3D(10, 20, 30)\n",
    "pt3 = Point3D(1, 1, 1)\n",
    "\n",
    "\n",
    "pt1\n",
    "\n",
    "pt1 == pt2\n",
    "\n",
    "a = (1,2)\n",
    "b = (3,4)\n",
    "c = (7,8)\n",
    "\n",
    "list(zip(a,b))\n",
    "sum([e[0]*e[1] for e in zip(a,b)])\n",
    "\n"
   ]
  },
  {
   "cell_type": "markdown",
   "metadata": {},
   "source": [
    "# Modules packages and name space \n",
    "\n",
    "A module is simply another data type. And the modules we use are instances of that data type."
   ]
  },
  {
   "cell_type": "code",
   "execution_count": null,
   "metadata": {
    "ExecuteTime": {
     "end_time": "2020-12-23T08:17:23.189069Z",
     "start_time": "2020-12-23T08:17:23.182958Z"
    }
   },
   "outputs": [],
   "source": [
    "globals()"
   ]
  },
  {
   "cell_type": "code",
   "execution_count": null,
   "metadata": {
    "ExecuteTime": {
     "end_time": "2020-12-23T08:18:00.995373Z",
     "start_time": "2020-12-23T08:18:00.991356Z"
    }
   },
   "outputs": [],
   "source": [
    "def func():\n",
    "    a = 10\n",
    "    return a "
   ]
  },
  {
   "cell_type": "code",
   "execution_count": null,
   "metadata": {
    "ExecuteTime": {
     "end_time": "2020-12-23T08:18:36.478669Z",
     "start_time": "2020-12-23T08:18:36.469141Z"
    }
   },
   "outputs": [],
   "source": [
    "locals()"
   ]
  },
  {
   "cell_type": "code",
   "execution_count": null,
   "metadata": {
    "ExecuteTime": {
     "end_time": "2020-12-23T08:19:55.111093Z",
     "start_time": "2020-12-23T08:19:55.107224Z"
    }
   },
   "outputs": [],
   "source": [
    "def func():\n",
    "    a = 10 \n",
    "    b = 20\n",
    "    print(locals())"
   ]
  },
  {
   "cell_type": "code",
   "execution_count": null,
   "metadata": {
    "ExecuteTime": {
     "end_time": "2020-12-23T08:20:12.818601Z",
     "start_time": "2020-12-23T08:20:12.816206Z"
    }
   },
   "outputs": [],
   "source": [
    "func()"
   ]
  },
  {
   "cell_type": "code",
   "execution_count": null,
   "metadata": {
    "ExecuteTime": {
     "end_time": "2020-12-23T08:24:01.578528Z",
     "start_time": "2020-12-23T08:24:01.576845Z"
    }
   },
   "outputs": [],
   "source": [
    "import math "
   ]
  },
  {
   "cell_type": "code",
   "execution_count": null,
   "metadata": {
    "ExecuteTime": {
     "end_time": "2020-12-23T08:24:21.157738Z",
     "start_time": "2020-12-23T08:24:21.152275Z"
    }
   },
   "outputs": [],
   "source": [
    "id(math)"
   ]
  },
  {
   "cell_type": "code",
   "execution_count": null,
   "metadata": {
    "ExecuteTime": {
     "end_time": "2020-12-23T08:47:35.660507Z",
     "start_time": "2020-12-23T08:47:35.642259Z"
    }
   },
   "outputs": [],
   "source": [
    "math.__dict__"
   ]
  },
  {
   "cell_type": "code",
   "execution_count": null,
   "metadata": {
    "ExecuteTime": {
     "end_time": "2020-12-23T08:51:59.672456Z",
     "start_time": "2020-12-23T08:51:59.668188Z"
    }
   },
   "outputs": [],
   "source": [
    "import fractions \n",
    "import sys"
   ]
  },
  {
   "cell_type": "code",
   "execution_count": null,
   "metadata": {
    "ExecuteTime": {
     "end_time": "2020-12-23T08:52:07.849967Z",
     "start_time": "2020-12-23T08:52:07.843060Z"
    }
   },
   "outputs": [],
   "source": [
    "sys.modules['fractions']"
   ]
  },
  {
   "cell_type": "code",
   "execution_count": null,
   "metadata": {
    "ExecuteTime": {
     "end_time": "2020-12-23T09:26:01.561390Z",
     "start_time": "2020-12-23T09:26:01.558335Z"
    }
   },
   "outputs": [],
   "source": [
    "sys.path"
   ]
  }
 ],
 "metadata": {
  "kernelspec": {
   "display_name": "Python 3",
   "language": "python",
   "name": "python3"
  },
  "language_info": {
   "codemirror_mode": {
    "name": "ipython",
    "version": 3
   },
   "file_extension": ".py",
   "mimetype": "text/x-python",
   "name": "python",
   "nbconvert_exporter": "python",
   "pygments_lexer": "ipython3",
   "version": "3.8.3"
  },
  "varInspector": {
   "cols": {
    "lenName": 16,
    "lenType": 16,
    "lenVar": 40
   },
   "kernels_config": {
    "python": {
     "delete_cmd_postfix": "",
     "delete_cmd_prefix": "del ",
     "library": "var_list.py",
     "varRefreshCmd": "print(var_dic_list())"
    },
    "r": {
     "delete_cmd_postfix": ") ",
     "delete_cmd_prefix": "rm(",
     "library": "var_list.r",
     "varRefreshCmd": "cat(var_dic_list()) "
    }
   },
   "oldHeight": 389.51666600000004,
   "position": {
    "height": "80.3333px",
    "left": "1153.92px",
    "right": "20px",
    "top": "5px",
    "width": "547.833px"
   },
   "types_to_exclude": [
    "module",
    "function",
    "builtin_function_or_method",
    "instance",
    "_Feature"
   ],
   "varInspector_section_display": "none",
   "window_display": true
  }
 },
 "nbformat": 4,
 "nbformat_minor": 4
}
